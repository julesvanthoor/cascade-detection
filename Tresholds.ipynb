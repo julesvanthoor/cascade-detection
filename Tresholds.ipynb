{
 "cells": [
  {
   "cell_type": "code",
   "execution_count": 2,
   "metadata": {
    "ExecuteTime": {
     "end_time": "2021-05-27T10:22:32.656900Z",
     "start_time": "2021-05-27T10:22:32.642808Z"
    }
   },
   "outputs": [],
   "source": [
    "def duration_treshold(event_log, segment, percentage, slow=True):\n",
    "    \"\"\"\n",
    "    Returns a treshold for the duration of a segment in an event log, based on an input percentage\n",
    "\n",
    "    :param event_log: event log used (Performance_Spectrum.EventLog)\n",
    "    :param segment: Name of the input segment of which we want a treshold\n",
    "    :param percentage: percentage of segments level events to include\n",
    "    :param slow: Boolean that indicates whether we want unusually slow or fast\n",
    "    :return: duration treshold based on percentage to derive system level events from\n",
    "    \"\"\"\n",
    "    events = segment_level_events(event_log, segment)\n",
    "    data = events[\"duration\"].values\n",
    "    \n",
    "    if slow:\n",
    "        perc = np.percentile(data, 100 - percentage)\n",
    "        treshold = math.floor(perc + 1)\n",
    "    else:\n",
    "        perc = np.percentile(data, percentage)\n",
    "        treshold = max(0, math.ceil(perc - 1))\n",
    "    \n",
    "    return treshold"
   ]
  },
  {
   "cell_type": "code",
   "execution_count": 3,
   "metadata": {
    "ExecuteTime": {
     "end_time": "2021-05-27T10:22:32.672923Z",
     "start_time": "2021-05-27T10:22:32.657897Z"
    }
   },
   "outputs": [],
   "source": [
    "def batching_start_treshold(event_log, segment, percentile):\n",
    "    \"\"\"\n",
    "    Returns a batching on start treshold for a segment in an event log, based on an input percentage\n",
    "\n",
    "    :param event_log: event log used (Performance_Spectrum.EventLog)\n",
    "    :param segment: Name of the input segment of which we want a treshold\n",
    "    :param percentage: percentage of segments level events to include\n",
    "    :return: batching on start treshold based on percentage to derive system level events from\n",
    "    \"\"\"\n",
    "    events = segment_level_events(event_log, segment)\n",
    "    \n",
    "    if events.empty:\n",
    "        return 1000\n",
    "    \n",
    "    data = events['start_time'].value_counts().reindex(DATE_RANGE, fill_value=0).tolist()\n",
    "    perc = np.percentile(data, percentile)\n",
    "    \n",
    "    return perc"
   ]
  },
  {
   "cell_type": "code",
   "execution_count": 4,
   "metadata": {
    "ExecuteTime": {
     "end_time": "2021-05-27T10:22:32.688918Z",
     "start_time": "2021-05-27T10:22:32.673921Z"
    }
   },
   "outputs": [],
   "source": [
    "def batching_end_treshold(event_log, segment, percentile):\n",
    "    \"\"\"\n",
    "    Returns a batching on end treshold for a segment in an event log, based on an input percentage\n",
    "\n",
    "    :param event_log: event log used (Performance_Spectrum.EventLog)\n",
    "    :param segment: Name of the input segment of which we want a treshold\n",
    "    :param percentage: percentage of segments level events to include\n",
    "    :return: batching on end treshold based on percentage to derive system level events from\n",
    "    \"\"\"\n",
    "    events = segment_level_events(event_log, segment)\n",
    "    \n",
    "    if events.empty:\n",
    "        return 1000\n",
    "    \n",
    "    data = events['end_time'].value_counts().reindex(DATE_RANGE, fill_value=0).tolist()\n",
    "    perc = np.percentile(data, percentile)\n",
    "\n",
    "    return perc"
   ]
  },
  {
   "cell_type": "code",
   "execution_count": 5,
   "metadata": {
    "ExecuteTime": {
     "end_time": "2021-05-27T10:22:32.704937Z",
     "start_time": "2021-05-27T10:22:32.689886Z"
    }
   },
   "outputs": [],
   "source": [
    "def high_workload_treshold(event_log, segment, percentile, same_user=True):\n",
    "    \"\"\"\n",
    "    Returns a high workload treshold for a segment in an event log, based on an input percentage\n",
    "\n",
    "    :param event_log: event log used (Performance_Spectrum.EventLog)\n",
    "    :param segment: Name of the input segment of which we want a treshold\n",
    "    :param percentage: percentage of segments level events to include\n",
    "    :return: high workload treshold based on percentage to derive system level events from\n",
    "    \"\"\"\n",
    "    events = system_level_events_high_workload(segment_level_events(event_log, segment))\n",
    "    \n",
    "    if events.empty:\n",
    "        return 1000\n",
    "    \n",
    "    if same_user:\n",
    "        data = list(events[\"ratio_workload\"])\n",
    "    else:\n",
    "        data = list(events[\"ratio_start_end\"])\n",
    "    \n",
    "    perc = np.percentile(data, percentile)\n",
    "\n",
    "    return perc"
   ]
  },
  {
   "cell_type": "code",
   "execution_count": 6,
   "metadata": {
    "ExecuteTime": {
     "end_time": "2021-05-27T10:22:32.720866Z",
     "start_time": "2021-05-27T10:22:32.705937Z"
    }
   },
   "outputs": [],
   "source": [
    "def compute_tresholds(event_logs):\n",
    "    # Duration tresholds for delayed system level events\n",
    "    tresholds_delayed = [duration_treshold(event_logs[0][0], segment, 30) for segment in Segments.SEGMENTS_COMPLETE]\n",
    "\n",
    "    # Tresholds for batching on end system level events  \n",
    "    tresholds_batching_end_complete = [batching_end_treshold(event_logs[0][0], segment, 90) for segment in Segments.SEGMENTS_COMPLETE]\n",
    "    \n",
    "    # Tresholds for batching on start system level events\n",
    "    tresholds_batching_start_complete = [batching_start_treshold(event_logs[0][0], segment, 90) for segment in Segments.SEGMENTS_COMPLETE]\n",
    "    \n",
    "    # Tresholds for high workload system level events\n",
    "    tresholds_high_workload_complete = [high_workload_treshold(event_logs[0][0], segment, 90) for segment in Segments.SEGMENTS_HIGH_WORKLOAD]\n",
    "    \n",
    "    # Tresholds for high workload handover system level events\n",
    "    tresholds_high_workload_hand_complete = [high_workload_treshold(event_logs[0][0], segment, 90, False) for segment in Segments.SEGMENTS_HIGH_WORKLOAD_HAND]\n",
    "    \n",
    "    \n",
    "    # Combine different batching on start/end and high workload tresholds\n",
    "    tresholds_batching_end = [tresholds_batching_end_complete\n",
    "                              ]\n",
    "    \n",
    "    tresholds_batching_start = [tresholds_batching_start_complete\n",
    "                               ]\n",
    "    \n",
    "    tresholds_high_workload = [tresholds_high_workload_complete\n",
    "                              ]\n",
    "    \n",
    "    tresholds_high_workload_hand = [tresholds_high_workload_hand_complete\n",
    "                                   ]\n",
    "    \n",
    "    tresholds = {\"delayed\": tresholds_delayed,\n",
    "                 \"batching_end\": tresholds_batching_end, \n",
    "                 \"batching_start\": tresholds_batching_start, \n",
    "                 \"high_workload\": tresholds_high_workload, \n",
    "                 \"high_workload_hand\": tresholds_high_workload_hand}\n",
    "    \n",
    "    save_tresholds(tresholds)\n",
    "    \n",
    "    return tresholds"
   ]
  },
  {
   "cell_type": "code",
   "execution_count": 7,
   "metadata": {
    "ExecuteTime": {
     "end_time": "2021-05-27T10:22:32.735891Z",
     "start_time": "2021-05-27T10:22:32.722861Z"
    }
   },
   "outputs": [],
   "source": [
    "def save_tresholds(tresholds):\n",
    "    with open('output/dumps/tresholds', 'wb+') as output:\n",
    "        pickle.dump(tresholds, output, -1)"
   ]
  },
  {
   "cell_type": "code",
   "execution_count": 8,
   "metadata": {
    "ExecuteTime": {
     "end_time": "2021-05-27T10:22:32.751843Z",
     "start_time": "2021-05-27T10:22:32.736856Z"
    }
   },
   "outputs": [],
   "source": [
    "def load_tresholds():\n",
    "    return pickle.load(open('output/dumps/tresholds', 'rb'))"
   ]
  },
  {
   "cell_type": "code",
   "execution_count": null,
   "metadata": {},
   "outputs": [],
   "source": [
    "def jenks_buckets(values, start, end):\n",
    "    for i in range(start, end + 1):\n",
    "        print(i, \":\", jenks(values, i))"
   ]
  },
  {
   "cell_type": "code",
   "execution_count": 9,
   "metadata": {
    "ExecuteTime": {
     "end_time": "2021-05-27T10:22:32.766950Z",
     "start_time": "2021-05-27T10:22:32.752864Z"
    }
   },
   "outputs": [],
   "source": [
    "def goodness_of_variance_fit(array, classes):\n",
    "    # get the break points\n",
    "    classes = jenks(array, classes)\n",
    "\n",
    "    # do the actual classification\n",
    "    classified = np.array([classify(i, classes) for i in array])\n",
    "\n",
    "    # max value of zones\n",
    "    maxz = max(classified)\n",
    "\n",
    "    # nested list of zone indices\n",
    "    zone_indices = [[idx for idx, val in enumerate(classified) if zone + 1 == val] for zone in range(maxz)]\n",
    "\n",
    "    # sum of squared deviations from array mean\n",
    "    sdam = np.sum((array - array.mean()) ** 2)\n",
    "\n",
    "    # sorted polygon stats\n",
    "    array_sort = [np.array([array[index] for index in zone]) for zone in zone_indices]\n",
    "\n",
    "    # sum of squared deviations of class means\n",
    "    sdcm = sum([np.sum((classified - classified.mean()) ** 2) for classified in array_sort])\n",
    "\n",
    "    # goodness of variance fit\n",
    "    gvf = (sdam - sdcm) / sdam\n",
    "\n",
    "    return gvf"
   ]
  },
  {
   "cell_type": "code",
   "execution_count": 10,
   "metadata": {
    "ExecuteTime": {
     "end_time": "2021-05-27T10:22:32.783056Z",
     "start_time": "2021-05-27T10:22:32.767946Z"
    }
   },
   "outputs": [],
   "source": [
    "def classify(value, breaks):\n",
    "    for i in range(1, len(breaks)):\n",
    "        if value < breaks[i]:\n",
    "            return i\n",
    "    return len(breaks) - 1"
   ]
  }
 ],
 "metadata": {
  "kernelspec": {
   "display_name": "Python 3",
   "language": "python",
   "name": "python3"
  },
  "language_info": {
   "codemirror_mode": {
    "name": "ipython",
    "version": 3
   },
   "file_extension": ".py",
   "mimetype": "text/x-python",
   "name": "python",
   "nbconvert_exporter": "python",
   "pygments_lexer": "ipython3",
   "version": "3.7.10"
  },
  "toc": {
   "base_numbering": 1,
   "nav_menu": {},
   "number_sections": true,
   "sideBar": true,
   "skip_h1_title": false,
   "title_cell": "Table of Contents",
   "title_sidebar": "Contents",
   "toc_cell": false,
   "toc_position": {},
   "toc_section_display": true,
   "toc_window_display": false
  },
  "varInspector": {
   "cols": {
    "lenName": 16,
    "lenType": 16,
    "lenVar": 40
   },
   "kernels_config": {
    "python": {
     "delete_cmd_postfix": "",
     "delete_cmd_prefix": "del ",
     "library": "var_list.py",
     "varRefreshCmd": "print(var_dic_list())"
    },
    "r": {
     "delete_cmd_postfix": ") ",
     "delete_cmd_prefix": "rm(",
     "library": "var_list.r",
     "varRefreshCmd": "cat(var_dic_list()) "
    }
   },
   "types_to_exclude": [
    "module",
    "function",
    "builtin_function_or_method",
    "instance",
    "_Feature"
   ],
   "window_display": false
  }
 },
 "nbformat": 4,
 "nbformat_minor": 4
}
