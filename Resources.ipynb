{
 "cells": [
  {
   "cell_type": "code",
   "execution_count": 1,
   "metadata": {
    "ExecuteTime": {
     "end_time": "2021-05-27T10:23:21.867232Z",
     "start_time": "2021-05-27T10:23:21.854217Z"
    }
   },
   "outputs": [],
   "source": [
    "def resource(system_level_events):\n",
    "    \"\"\"\n",
    "    Adds resource statistics to the system level events given.\n",
    "\n",
    "    :param system_level_events: pandas DataFrame containing all system level events\n",
    "    :return: pandas Dataframe with one line for all system level events of one segment\n",
    "    \"\"\"\n",
    "    log = system_level_events.copy()\n",
    "    \n",
    "    if log.empty:\n",
    "        return log\n",
    "    \n",
    "    log = log.groupby('segment_name')\n",
    "    log = log[[\"ratio_handovers\", \"ratio_same_user\", \"ratio_start_end\", \"ratio_user1_start\", \"ratio_user1_end\", \"ratio_workload\"]].agg(list).join(log.size().rename('count'))\n",
    "    \n",
    "    if log.empty:\n",
    "        return log\n",
    "    \n",
    "    log[\"mean_handovers\"] = np.mean(log[\"ratio_handovers\"].tolist(), axis=1)\n",
    "    log[\"std_handovers\"] = np.std(log[\"ratio_handovers\"].tolist(), axis=1)\n",
    "    \n",
    "    log[\"mean_same_user\"] = np.mean(log[\"ratio_same_user\"].tolist(), axis=1)\n",
    "    log[\"std_same_user\"] = np.std(log[\"ratio_same_user\"].tolist(), axis=1)\n",
    "    \n",
    "    log[\"mean_user1_start\"] = np.mean(log[\"ratio_user1_start\"].tolist(), axis=1)\n",
    "    log[\"std_user1_start\"] = np.std(log[\"ratio_user1_start\"].tolist(), axis=1)\n",
    "    \n",
    "    log[\"mean_user1_end\"] = np.mean(log[\"ratio_user1_end\"].tolist(), axis=1)\n",
    "    log[\"std_user1_end\"] = np.std(log[\"ratio_user1_end\"].tolist(), axis=1)\n",
    "    \n",
    "    log[\"mean_start_end\"] = np.mean(log[\"ratio_start_end\"].tolist(), axis=1)\n",
    "    log[\"std_start_end\"] = np.std(log[\"ratio_start_end\"].tolist(), axis=1)\n",
    "    \n",
    "    log[\"mean_workload\"] = np.mean(log[\"ratio_workload\"].tolist(), axis=1)\n",
    "    log[\"std_workload\"] = np.std(log[\"ratio_workload\"].tolist(), axis=1)\n",
    "    \n",
    "    cols = log.columns.tolist()\n",
    "    cols = cols[6:] + cols[:6]\n",
    "    log = log[cols]\n",
    "    \n",
    "    return log"
   ]
  },
  {
   "cell_type": "code",
   "execution_count": 2,
   "metadata": {
    "ExecuteTime": {
     "end_time": "2021-05-27T10:23:21.882704Z",
     "start_time": "2021-05-27T10:23:21.869271Z"
    }
   },
   "outputs": [],
   "source": [
    "def combine_resources(event_log, segments, tresholds, event_type=\"batching\"):\n",
    "    \"\"\"\n",
    "    Combines resource rows from different segments in a pandas DataFrame\n",
    "\n",
    "    :param event_log: event log used (Performance_Spectrum.EventLog)\n",
    "    :param segments: list of segments to compute resource statistics for\n",
    "    :param tresholds: tresholds for the computation of system level events\n",
    "    :param event_type: type of system level event ('batching' or None)\n",
    "    :return: pandas Dataframe containing all resource statistics for all segments\n",
    "    \"\"\"\n",
    "    dfs = []\n",
    "    print(\"segment:\", end = \" \")\n",
    "    for i, segment in enumerate(segments):\n",
    "        print(str(i), end = \" \")\n",
    "        segs = segment_level_events(event_log, segment)\n",
    "        \n",
    "        if event_type == \"high_load\":\n",
    "            events = system_level_events_batching_on_start(segs, tresholds[i])\n",
    "        elif event_type == \"high_workload\":\n",
    "            events = system_level_events_high_workload(segs)\n",
    "        else:\n",
    "            events = system_level_events_batching_on_end(segs, tresholds[i])\n",
    "        \n",
    "        resources = resource(events)\n",
    "        \n",
    "        if not events.empty: \n",
    "            dfs.append(resources)\n",
    "    \n",
    "    if dfs:\n",
    "        df = pd.concat(dfs)\n",
    "        df[\"id\"] = range(len(df))\n",
    "        cols = df.columns.tolist()\n",
    "        cols = [cols[-1]] + cols[:-1]\n",
    "        df = df[cols]\n",
    "        \n",
    "        return df\n",
    "    else:\n",
    "        return pd.DataFrame()\n",
    "                            "
   ]
  },
  {
   "cell_type": "code",
   "execution_count": 3,
   "metadata": {
    "ExecuteTime": {
     "end_time": "2021-05-27T10:23:21.898695Z",
     "start_time": "2021-05-27T10:23:21.884598Z"
    }
   },
   "outputs": [],
   "source": [
    "def resource_summary(event_log, segments, tresholds, event_type=\"batching\"):\n",
    "    \"\"\"\n",
    "    Prints a summary of a DataFrame containing resource statistics\n",
    "\n",
    "    :param event_log: event log used (Performance_Spectrum.EventLog)\n",
    "    :param segments: list of segments to compute resource statistics for\n",
    "    :param tresholds: tresholds for the computation of system level events\n",
    "    :param event_type: type of system level event ('batching' or None)\n",
    "    :return: pandas Dataframe containing all resource statistics for all segments\n",
    "    \"\"\"\n",
    "    resource_sum = combine_resources(event_log, segments, tresholds, event_type)\n",
    "    \n",
    "    # Split resource summary based on user1 being heavily present in either the start or end activity in segment\n",
    "    user_11 = resource_sum[(resource_sum[\"mean_user1_start\"] >= 0.9) & (resource_sum[\"mean_user1_end\"] >= 0.9)]\n",
    "    user_1o = resource_sum[(resource_sum[\"mean_user1_start\"] >= 0.9) & (resource_sum[\"mean_user1_end\"] < 0.9)]\n",
    "    user_o1 = resource_sum[(resource_sum[\"mean_user1_start\"] < 0.9) & (resource_sum[\"mean_user1_end\"] >= 0.9)]\n",
    "    user_oo = resource_sum[(resource_sum[\"mean_user1_start\"] < 0.9) & (resource_sum[\"mean_user1_end\"] < 0.9)]\n",
    "    print(\"user_11:\", len(user_11), \"user_1o:\", len(user_1o), \"user_o1:\",  len(user_o1), \"user_oo:\",  len(user_oo))\n",
    "\n",
    "    # Split 'other-to-other' segments in 'same users' and 'handovers' segments\n",
    "    user_oo_same = user_oo[user_oo[\"mean_same_user\"] >= 0.70]\n",
    "    user_oo_handover = user_oo[user_oo[\"mean_same_user\"] < 0.70]\n",
    "    print(\"user_oo same user:\", len(user_oo_same),\"user_oo handover:\", len(user_oo_handover))\n",
    "\n",
    "    # Extrect from 'same users' and 'handovers' 'other-to-other' segments 'significantly' varying workload segments\n",
    "    user_oo_same_sign = user_oo_same[user_oo_same[\"std_workload\"] > 2]\n",
    "    user_oo_handover_sign = user_oo_handover[user_oo_handover[\"std_start_end\"] > 2]\n",
    "\n",
    "    # Export segment ids for significant same user segments \n",
    "    user_oo_same_sign_std = list(zip(user_oo_same_sign[\"id\"], user_oo_same_sign[\"std_workload\"]))\n",
    "    user_oo_same_sign_std.sort(key=lambda x:x[1], reverse=True)\n",
    "    user_oo_same_sign_ids = [i for i, _ in user_oo_same_sign_std]\n",
    "    print(\"same user sign ids:\", user_oo_same_sign_ids)\n",
    "\n",
    "    # Export segment ids for significant handover segments \n",
    "    user_oo_handover_sign_std = list(zip(user_oo_handover_sign[\"id\"], user_oo_handover_sign[\"std_workload\"]))\n",
    "    user_oo_handover_sign_std.sort(key=lambda x:x[1], reverse=True)\n",
    "    user_oo_handover_sign_ids = [i for i, _ in user_oo_handover_sign_std]\n",
    "    print(\"handover sign ids:\", user_oo_handover_sign_ids)\n",
    "\n",
    "    # print minimum and maximum workload for same user segments\n",
    "    print(\"Workload for same user segments\")\n",
    "    for i, segment in enumerate(user_oo_same_sign_ids):\n",
    "        segs = segment_level_events(event_logs[0][0], Segments.SEGMENTS_COMPLETE[segment])\n",
    "        events = system_level_events_batching_on_end(segs, tresholds_batching_bpi2017[segment])\n",
    "        print(Segments.SEGMENTS_COMPLETE[segment], \"min:\", events[\"ratio_workload\"].min(), \"max:\", events[\"ratio_workload\"].max(), \"std:\", user_oo_same_sign_std[i][1])\n",
    "\n",
    "    # print minimum and maximum workload for handover segments\n",
    "    print(\"start/end ratio for handover segments\")\n",
    "    for i, segment in enumerate(user_oo_handover_sign_ids):\n",
    "        segs = segment_level_events(event_logs[0][0], Segments.SEGMENTS_COMPLETE[segment])\n",
    "        events = system_level_events_batching_on_end(segs, tresholds_batching_bpi2017[segment])\n",
    "        print(Segments.SEGMENTS_COMPLETE[segment], \"min:\", events[\"ratio_start_end\"].min(), \"max:\", events[\"ratio_start_end\"].max(), \"std:\", user_oo_handover_sign_std[i][1])\n",
    "    "
   ]
  },
  {
   "cell_type": "code",
   "execution_count": 4,
   "metadata": {
    "ExecuteTime": {
     "end_time": "2021-05-27T10:23:21.913759Z",
     "start_time": "2021-05-27T10:23:21.899604Z"
    }
   },
   "outputs": [],
   "source": [
    "def non_handover_segments(event_log, segments, tresholds, event_type=\"high_workload\"):\n",
    "    \"\"\"\n",
    "    Computes all segments that contain mainly same user segment level events, excluding user 1\n",
    "\n",
    "    :param event_log: event log used (Performance_Spectrum.EventLog)\n",
    "    :param segments: list of segments to compute resource statistics for\n",
    "    :param tresholds: tresholds for the computation of system level events\n",
    "    :param event_type: type of system level event ('batching' or None)\n",
    "    :return: pandas Dataframe containing all resource statistics for all segments\n",
    "    \"\"\"\n",
    "    resource_sum = combine_resources(event_log, segments, [], event_type)\n",
    "    users = resource_sum[(resource_sum[\"mean_user1_start\"] < 0.9) & (resource_sum[\"mean_user1_end\"] < 0.9)]\n",
    "    same_user = users[users[\"mean_same_user\"] >= 0.70]\n",
    "    segments = list(same_user[\"id\"])\n",
    "    print(len(segments))\n",
    "    return [Segments.SEGMENTS_COMPLETE[i] for i in segments]"
   ]
  },
  {
   "cell_type": "code",
   "execution_count": 5,
   "metadata": {
    "ExecuteTime": {
     "end_time": "2021-05-27T10:23:21.944625Z",
     "start_time": "2021-05-27T10:23:21.921689Z"
    }
   },
   "outputs": [],
   "source": [
    "def handover_segments(event_log, segments, tresholds, event_type=\"high_workload\"):\n",
    "    \"\"\"\n",
    "    Computes all segments that contain mainly same user segment level events, excluding user 1\n",
    "\n",
    "    :param event_log: event log used (Performance_Spectrum.EventLog)\n",
    "    :param segments: list of segments to compute resource statistics for\n",
    "    :param tresholds: tresholds for the computation of system level events\n",
    "    :param event_type: type of system level event ('batching' or None)\n",
    "    :return: pandas Dataframe containing all resource statistics for all segments\n",
    "    \"\"\"\n",
    "    resource_sum = combine_resources(event_log, segments, [], event_type)\n",
    "    users = resource_sum[(resource_sum[\"mean_user1_start\"] < 0.9) & (resource_sum[\"mean_user1_end\"] < 0.9)]\n",
    "    handover = users[users[\"mean_same_user\"] < 0.70]\n",
    "    segments = list(handover[\"id\"])\n",
    "    print(len(segments))\n",
    "    return [Segments.SEGMENTS_COMPLETE[i] for i in segments]"
   ]
  }
 ],
 "metadata": {
  "kernelspec": {
   "display_name": "Python 3",
   "language": "python",
   "name": "python3"
  },
  "language_info": {
   "codemirror_mode": {
    "name": "ipython",
    "version": 3
   },
   "file_extension": ".py",
   "mimetype": "text/x-python",
   "name": "python",
   "nbconvert_exporter": "python",
   "pygments_lexer": "ipython3",
   "version": "3.7.6"
  },
  "toc": {
   "base_numbering": 1,
   "nav_menu": {},
   "number_sections": true,
   "sideBar": true,
   "skip_h1_title": false,
   "title_cell": "Table of Contents",
   "title_sidebar": "Contents",
   "toc_cell": false,
   "toc_position": {},
   "toc_section_display": true,
   "toc_window_display": false
  },
  "varInspector": {
   "cols": {
    "lenName": 16,
    "lenType": 16,
    "lenVar": 40
   },
   "kernels_config": {
    "python": {
     "delete_cmd_postfix": "",
     "delete_cmd_prefix": "del ",
     "library": "var_list.py",
     "varRefreshCmd": "print(var_dic_list())"
    },
    "r": {
     "delete_cmd_postfix": ") ",
     "delete_cmd_prefix": "rm(",
     "library": "var_list.r",
     "varRefreshCmd": "cat(var_dic_list()) "
    }
   },
   "types_to_exclude": [
    "module",
    "function",
    "builtin_function_or_method",
    "instance",
    "_Feature"
   ],
   "window_display": false
  }
 },
 "nbformat": 4,
 "nbformat_minor": 4
}
