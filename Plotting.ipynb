{
 "cells": [
  {
   "cell_type": "code",
   "execution_count": 1,
   "metadata": {
    "ExecuteTime": {
     "end_time": "2021-05-27T10:21:58.273877Z",
     "start_time": "2021-05-27T10:21:58.260406Z"
    }
   },
   "outputs": [],
   "source": [
    "def segment_ids(events):\n",
    "    \"\"\"\n",
    "    Returns a raw list with segment_id's of the given system level events.\n",
    "\n",
    "    :param events: DataFrame consisting of all system level events\n",
    "    :return: list containing all segment_id's in 'events'\n",
    "    \"\"\"\n",
    "    ids = []\n",
    "    if events.empty:\n",
    "        return ids\n",
    "    else:\n",
    "        events[\"segments\"].apply(lambda segments: ids.append(segments))\n",
    "        ids = sorted([segment for segments in ids for segment in segments])\n",
    "\n",
    "    return ids"
   ]
  },
  {
   "cell_type": "code",
   "execution_count": 2,
   "metadata": {
    "ExecuteTime": {
     "end_time": "2021-05-27T10:21:58.290003Z",
     "start_time": "2021-05-27T10:21:58.274878Z"
    }
   },
   "outputs": [],
   "source": [
    "def segment_level_event_ids(event_log, segments, tresholds, slow=True, instant=False):\n",
    "    \"\"\"\n",
    "    Computes the ids of all segment level events that fit the criteria\n",
    "\n",
    "    :param event_log: event log used (Performance_Spectrum.EventLog)\n",
    "    :param segments: set of segments to compute events for\n",
    "    :param tresholds: tresholds for duration\n",
    "    :param slow: Boolean that indicates whether we want unusually slow or fast\n",
    "    :param instant: Boolean that indicates whether we want segments that start and complete on the same day\n",
    "    :return: list of ids of all segment level events meeting the criteria\n",
    "    \"\"\"\n",
    "\n",
    "    segment_ids=[]\n",
    "    for i, segment in enumerate(segments):\n",
    "        events = segment_level_events(event_log, segment)\n",
    "\n",
    "        if events.empty:\n",
    "            ids = []\n",
    "        elif instant:\n",
    "            ids = events.loc[(events['segment_name'] == segment) & (events['duration'] == 0), 'segment_id'].to_list()\n",
    "        elif slow:\n",
    "            ids = events.loc[(events['segment_name'] == segment) & (events['duration'] >= tresholds[i]), 'segment_id'].to_list()\n",
    "        else:\n",
    "            ids = events.loc[(events['segment_name'] == segment) & (events['duration'] <= tresholds[i]), 'segment_id'].to_list()\n",
    "        \n",
    "        segment_ids += ids\n",
    "        \n",
    "    return segment_ids"
   ]
  },
  {
   "cell_type": "code",
   "execution_count": 3,
   "metadata": {
    "ExecuteTime": {
     "end_time": "2021-05-27T10:21:58.305140Z",
     "start_time": "2021-05-27T10:21:58.290963Z"
    }
   },
   "outputs": [],
   "source": [
    "def add_instant(event_log, segments):\n",
    "    \"\"\"\n",
    "    Computes all instant (same day) segment level events and adds their type column to the event log's PS\n",
    "\n",
    "    :param event_log: event log used (Performance_Spectrum.EventLog)\n",
    "    :param segments: list of segments to compute events for\n",
    "    \"\"\"\n",
    "    log, name = event_log\n",
    "    print(\"get instant ids\")\n",
    "    ids = segment_level_event_ids(log, segments, None, instant=True)\n",
    "    print(\"add event type instant\", name, end=\" \")\n",
    "    add_event_type(log, \"instant\", ids)\n",
    "    print(\"Done\")"
   ]
  },
  {
   "cell_type": "code",
   "execution_count": 4,
   "metadata": {
    "ExecuteTime": {
     "end_time": "2021-05-27T10:21:58.321223Z",
     "start_time": "2021-05-27T10:21:58.306139Z"
    }
   },
   "outputs": [],
   "source": [
    "def add_delayed(event_log, segments, duration_tresholds, occurence_tresholds):\n",
    "    \"\"\"\n",
    "    Computes delayed system level events and adds their type column to the event log's PS\n",
    "\n",
    "    :param event_log: event log used (Performance_Spectrum.EventLog)\n",
    "    :param segments: list of segments to compute events for\n",
    "    :param duration_tresholds: list of tresholds for the minimal duration of the segment level events in the system level events\n",
    "    :param occurence_tresholds: list of tresholds for the minimal number of cases that must be in the system level events\n",
    "    \"\"\"\n",
    "    log, name = event_log\n",
    "    ids = [[] for _ in range(len(occurence_tresholds))]\n",
    "    \n",
    "    print(\"processing segment \", end=\" \")\n",
    "    for i, segment in enumerate(segments):\n",
    "        print(str(i), end=\" \")\n",
    "        seg_events = segment_level_events(log, segment)\n",
    "        sys_events = system_level_events_delayed(seg_events, 1, duration_tresholds[i])\n",
    "        \n",
    "        if not sys_events.empty:\n",
    "            for j, oc in enumerate(occurence_tresholds):\n",
    "                filtered = sys_events[sys_events[\"nr_cases\"] >= oc] \n",
    "                ids[j] += segment_ids(filtered)  \n",
    "    \n",
    "    print(\"Done\")\n",
    "    for k, oc in enumerate(occurence_tresholds):\n",
    "        column_name = \"delayed\" + str(oc)\n",
    "        print(\"add event type \" + column_name, name, end=\" \")\n",
    "        add_event_type(log, column_name, ids[k])\n",
    "        print(\"Done\")"
   ]
  },
  {
   "cell_type": "code",
   "execution_count": 5,
   "metadata": {
    "ExecuteTime": {
     "end_time": "2021-05-27T10:21:58.336085Z",
     "start_time": "2021-05-27T10:21:58.322122Z"
    }
   },
   "outputs": [],
   "source": [
    "def add_batching_on_end(event_log, segments, batching_tresholds, occurence_classes=[]):\n",
    "    \"\"\"\n",
    "    Computes batching on end system level events and adds their type column to the event log's PS\n",
    "\n",
    "    :param event_log: event log used (Performance_Spectrum.EventLog)\n",
    "    :param segments: list of segments to compute events for\n",
    "    :param duration_tresholds: list of tresholds for the minimal duration of the segment level events in the system level events\n",
    "    :param occurence_tresholds: list of tresholds for the minimal number of cases that must be in the system level events\n",
    "    \"\"\"\n",
    "    log, name = event_log\n",
    "    ids = []\n",
    "    ids_classes = [[] for _ in range(len(occurence_classes))]\n",
    "    \n",
    "    print(\"processing segment \", end=\" \")\n",
    "    for i, segment in enumerate(segments):\n",
    "        print(str(i), end=\" \")\n",
    "        seg_events = segment_level_events(log, segment)\n",
    "        sys_events = system_level_events_batching_on_end(seg_events, 1)\n",
    "        \n",
    "        if not sys_events.empty:\n",
    "            filtered = sys_events[sys_events[\"nr_cases\"] > batching_tresholds[i]] \n",
    "            ids += segment_ids(filtered)\n",
    "            \n",
    "            if occurence_classes:\n",
    "                for j, oc in enumerate(occurence_classes):\n",
    "                    filtered_class = sys_events[sys_events[\"nr_cases\"] >= oc]\n",
    "                    ids_classes[j] += segment_ids(filtered_class)\n",
    "            \n",
    "            \n",
    "    print(\"Done\")\n",
    "    column_name = \"batching\"\n",
    "    print(\"add event type \" + column_name, name, end=\" \")\n",
    "    add_event_type(log, column_name, ids)\n",
    "    print(\"Done\")\n",
    "    \n",
    "    for k, oc in enumerate(occurence_classes):\n",
    "        column_name = \"batching\" + str(oc)\n",
    "        print(\"add event type \" + column_name, name, end=\" \")\n",
    "        add_event_type(log, column_name, ids_classes[k])\n",
    "        print(\"Done\")"
   ]
  },
  {
   "cell_type": "code",
   "execution_count": 6,
   "metadata": {
    "ExecuteTime": {
     "end_time": "2021-05-27T10:21:58.352043Z",
     "start_time": "2021-05-27T10:21:58.337082Z"
    }
   },
   "outputs": [],
   "source": [
    "def add_batching_on_start(event_log, segments, high_load_tresholds, occurence_classes=[]):\n",
    "    \"\"\"\n",
    "    Computes batching on start system level events and adds their type column to the event log's PS\n",
    "\n",
    "    :param event_log: event log used (Performance_Spectrum.EventLog)\n",
    "    :param segments: list of segments to compute events for\n",
    "    :param duration_tresholds: list of tresholds for the minimal duration of the segment level events in the system level events\n",
    "    :param occurence_tresholds: list of tresholds for the minimal number of cases that must be in the system level events\n",
    "    \"\"\"\n",
    "    log, name = event_log\n",
    "    ids = []\n",
    "    ids_classes = [[] for _ in range(len(occurence_classes))]\n",
    "    \n",
    "    print(\"processing segment \", end=\" \")\n",
    "    for i, segment in enumerate(segments):\n",
    "        print(str(i), end=\" \")\n",
    "        seg_events = segment_level_events(log, segment)\n",
    "        sys_events = system_level_events_batching_on_start(seg_events, 1)\n",
    "        \n",
    "        if not sys_events.empty:\n",
    "            filtered = sys_events[sys_events[\"nr_cases\"] > high_load_tresholds[i]] \n",
    "            ids += segment_ids(filtered)\n",
    "            \n",
    "            if occurence_classes:\n",
    "                for j, oc in enumerate(occurence_classes):\n",
    "                    filtered_class = sys_events[sys_events[\"nr_cases\"] >= oc]\n",
    "                    ids_classes[j] += segment_ids(filtered_class)\n",
    "            \n",
    "            \n",
    "    print(\"Done\")\n",
    "    column_name = \"high_load\"\n",
    "    print(\"add event type \" + column_name, name, end=\" \")\n",
    "    add_event_type(log, column_name, ids)\n",
    "    print(\"Done\")\n",
    "    \n",
    "    for k, oc in enumerate(occurence_classes):\n",
    "        column_name = \"high_load\" + str(oc)\n",
    "        print(\"add event type \" + column_name, name, end=\" \")\n",
    "        add_event_type(log, column_name, ids_classes[k])\n",
    "        print(\"Done\")"
   ]
  },
  {
   "cell_type": "code",
   "execution_count": 7,
   "metadata": {
    "ExecuteTime": {
     "end_time": "2021-05-27T10:21:58.368000Z",
     "start_time": "2021-05-27T10:21:58.354037Z"
    }
   },
   "outputs": [],
   "source": [
    "def add_high_workload(event_log, segments, high_workload_tresholds, workload_classes=[], same_user=True):\n",
    "    \"\"\"\n",
    "    Computes high workload system level events and adds their type column to the event log's PS\n",
    "\n",
    "    :param event_log: event log used (Performance_Spectrum.EventLog)\n",
    "    :param segments: list of segments to compute events for\n",
    "    :param high_workload_tresholds: list of tresholds for the minimal duration of the segment level events in the system level events\n",
    "    :param occurence_classes: list of classes for the minimal workload of the system level events\n",
    "    \"\"\"\n",
    "    log, name = event_log\n",
    "    ids = []\n",
    "    ids_classes = [[] for _ in range(len(workload_classes))]\n",
    "    \n",
    "    print(\"processing segment \", end=\" \")\n",
    "    for i, segment in enumerate(segments):\n",
    "        print(str(i), end=\" \")\n",
    "        seg_events = segment_level_events(log, segment)\n",
    "        sys_events = system_level_events_high_workload(seg_events, 1)\n",
    "        \n",
    "        if not sys_events.empty:\n",
    "            if same_user:\n",
    "                filtered = sys_events[sys_events[\"ratio_workload\"] > high_workload_tresholds[i]]\n",
    "            else:\n",
    "                filtered = sys_events[sys_events[\"ratio_start_end\"] > high_workload_tresholds[i]]\n",
    "            ids += segment_ids(filtered)\n",
    "            \n",
    "            if workload_classes:\n",
    "                for j, wc in enumerate(workload_classes):\n",
    "                    if same_user:\n",
    "                        filtered_class = sys_events[sys_events[\"ratio_workload\"] >= wc]\n",
    "                    else:\n",
    "                        filtered_class = sys_events[sys_events[\"ratio_start_end\"] >= wc]\n",
    "                    ids_classes[j] += segment_ids(filtered_class)\n",
    "            \n",
    "            \n",
    "    print(\"Done\")\n",
    "    if same_user:\n",
    "        column_name = \"workload\"\n",
    "    else:\n",
    "        column_name = \"workload_hand\"\n",
    "    print(\"add event type \" + column_name, name, end=\" \")\n",
    "    add_event_type(log, column_name, ids)\n",
    "    print(\"Done\")\n",
    "    \n",
    "    for k, wc in enumerate(workload_classes):\n",
    "        if same_user:\n",
    "            column_name = \"workload\" + str(wc)\n",
    "        else:\n",
    "            column_name = \"workload_hand\" + str(wc)\n",
    "        print(\"add event type \" + column_name, name, end=\" \")\n",
    "        add_event_type(log, column_name, ids_classes[k])\n",
    "        print(\"Done\")"
   ]
  },
  {
   "cell_type": "code",
   "execution_count": 8,
   "metadata": {
    "ExecuteTime": {
     "end_time": "2021-05-27T10:21:58.383957Z",
     "start_time": "2021-05-27T10:21:58.368996Z"
    }
   },
   "outputs": [],
   "source": [
    "def add_event_type(event_log, event_type, segment_ids):\n",
    "    \"\"\"\n",
    "    extends event log's PS with event type column\n",
    "\n",
    "    :param event_log: event log to alter performance spectrum for (Performance_Spectrum.EventLog)\n",
    "    :param event_type: type of system level event and name of the column\n",
    "    :param segment_ids: list of segment ids corresponding to the system level events\n",
    "    \"\"\"\n",
    "    pfs = event_log.pf   \n",
    "\n",
    "    pfs[event_type] = pfs[\"segment_id\"].isin(segment_ids)"
   ]
  },
  {
   "cell_type": "code",
   "execution_count": 9,
   "metadata": {
    "ExecuteTime": {
     "end_time": "2021-05-27T10:21:58.399946Z",
     "start_time": "2021-05-27T10:21:58.384959Z"
    }
   },
   "outputs": [],
   "source": [
    "def save_performance_spectrum(event_log, percentile):\n",
    "    \"\"\"\n",
    "    Saves an event log's PS to disk for fast access\n",
    "\n",
    "    :param event_log: event log used (Performance_Spectrum.EventLog)\n",
    "    :param percentile: percentile used for duration tresholds, will be printed behind filename\n",
    "    \"\"\"\n",
    "    log, name = event_log\n",
    "    \n",
    "    with open('output/dumps/' + name + \"_pf\" + str(percentile), 'wb+') as output:\n",
    "        pickle.dump(log.pf, output, -1)"
   ]
  },
  {
   "cell_type": "code",
   "execution_count": 10,
   "metadata": {
    "ExecuteTime": {
     "end_time": "2021-05-27T10:21:58.415908Z",
     "start_time": "2021-05-27T10:21:58.400943Z"
    }
   },
   "outputs": [],
   "source": [
    "def load_performance_spectrum(event_log, percentile):\n",
    "    \"\"\"\n",
    "    loads a saved event log's PS from disk\n",
    "\n",
    "    :param event_log: event log used (Performance_Spectrum.EventLog)\n",
    "    :param percentile: percentile used for duration tresholds, will be printed behind filename\n",
    "    \"\"\"\n",
    "    log, name = event_log\n",
    "    log.pf = pickle.load(open('output/dumps/' + name + \"_pf\" + str(percentile), 'rb'))"
   ]
  },
  {
   "cell_type": "code",
   "execution_count": 11,
   "metadata": {
    "ExecuteTime": {
     "end_time": "2021-05-27T10:21:58.430867Z",
     "start_time": "2021-05-27T10:21:58.416905Z"
    }
   },
   "outputs": [],
   "source": [
    "def date_formatter(first):\n",
    "    \"\"\"\n",
    "    Returns FuncFormatter that converts hours to date strings\n",
    "\n",
    "    :param first: first date in the event log (datetime object)\n",
    "    :return: FuncFormatter that converts hours to date strings\n",
    "    \"\"\"\n",
    "    return FuncFormatter(lambda x_val, tick_pos: (first + datetime.timedelta(days=math.floor(x_val/24))).strftime(\"%Y-%m-%d\"))"
   ]
  },
  {
   "cell_type": "code",
   "execution_count": 12,
   "metadata": {
    "ExecuteTime": {
     "end_time": "2021-05-27T10:21:58.445827Z",
     "start_time": "2021-05-27T10:21:58.431865Z"
    }
   },
   "outputs": [],
   "source": [
    "def classify(performance_spectrum, classifier, complete):\n",
    "    \"\"\"\n",
    "    Sets the 'class' column of a PS according to the classifier function\n",
    "\n",
    "    :param performance_spectrum: performance spectrum to work with\n",
    "    :param classifier: function that returns the class given a row of the PS\n",
    "    :return: 'performance_spectrum' with derived 'class' column\n",
    "    \"\"\"\n",
    "    pf = performance_spectrum.copy()\n",
    "    pf[\"class\"] = -1\n",
    "    pf[\"class\"] = pf.apply(classifier, axis=1)\n",
    "    \n",
    "    if not complete:\n",
    "        pf = pf[pf[\"class\"] >= 0]\n",
    "    \n",
    "    return pf"
   ]
  },
  {
   "cell_type": "code",
   "execution_count": 1,
   "metadata": {
    "ExecuteTime": {
     "end_time": "2021-05-27T10:21:58.461786Z",
     "start_time": "2021-05-27T10:21:58.446825Z"
    }
   },
   "outputs": [],
   "source": [
    "def plot_performance_spectrum(performance_spectrum, segments, classifier, height, complete=False):\n",
    "    \"\"\"\n",
    "    Plots the performance spectrum with Matplotlib\n",
    "\n",
    "    :param performance_spectrum: performance spectrum to plot\n",
    "    :param segments: segments to plot\n",
    "    :param classifier: dictionary containing classifier function (\"classifier\") and colors (\"colors\")\n",
    "    :param complete: Boolean that indicates if we want to plot all non-classified segments (True) or not (False)\n",
    "    \"\"\"\n",
    "    cf = classifier[\"classifier\"]\n",
    "    class_colors = classifier[\"colors\"]\n",
    "    \n",
    "    pf = classify(performance_spectrum, cf, complete)\n",
    "    vis = Performance_Spectrum.Spectrum(segments, pf)\n",
    "\n",
    "    fig, ax = plt.subplots(figsize=[20,height])\n",
    "    formatter = date_formatter(FIRST)\n",
    "\n",
    "    vis.plot_performance_spectrum(class_colors, \n",
    "                                  ax, \n",
    "                                  label_offset=-50, \n",
    "                                  vis_mask=True\n",
    "                                 )\n",
    "\n",
    "    ax.set_xticks(np.arange(0, round(ax.get_xlim()[1]), 168))\n",
    "    ax.set_xticklabels(ax.get_xticks(), rotation = 90)\n",
    "    ax.xaxis.set_major_formatter(formatter)"
   ]
  },
  {
   "cell_type": "code",
   "execution_count": 14,
   "metadata": {
    "ExecuteTime": {
     "end_time": "2021-05-27T10:21:58.477747Z",
     "start_time": "2021-05-27T10:21:58.463780Z"
    }
   },
   "outputs": [],
   "source": [
    "def plot_interactive(performance_spectrum, segments, classifier, complete=False):\n",
    "    \"\"\"\n",
    "    Prepares the data for plotting interactively with pyplot\n",
    "\n",
    "    :param performance_spectrum: performance spectrum to plot\n",
    "    :param segments: segments to plot\n",
    "    :param classifier: dictionary containing classifier function (\"classifier\") and colors (\"colors\")\n",
    "    :param complete: Boolean that indicates if we want to plot all non-classified segments (True) or not (False)\n",
    "    \"\"\"\n",
    "    cf = classifier[\"classifier\"]\n",
    "    class_colors = classifier[\"colors\"]\n",
    "    \n",
    "    vis = Performance_Spectrum.Spectrum(segments, performance_spectrum)\n",
    "    pfs = classify(vis.pf, cf, complete)\n",
    "    \n",
    "    pfs = vis.build_coordinates(pfs, 'start_time', 'end_time')\n",
    "    \n",
    "    class_colors = [f'rgb({cc[0]*256},{cc[1]*256},{cc[2]*256})' for cc in class_colors]\n",
    "\n",
    "    pfs['fill'] = None\n",
    "    data = []\n",
    "    for cl in range(len(class_colors)):\n",
    "        xlist = list(pfs[pfs['class'] == float(cl)][['start_time', 'end_time', 'fill']].values.flatten())\n",
    "        ylist = list(pfs[pfs['class'] == float(cl)][['start_y', 'end_y', 'fill']].values.flatten())\n",
    "        data.append(go.Scattergl(x=xlist, y=ylist, line=dict(width=.5, color=class_colors[cl])))\n",
    "\n",
    "    for y in vis.y_s:\n",
    "        data.append(go.Scattergl(mode='lines', x=[0,max(pfs['end_time'])], y=[y[0], y[0]], line=dict(width=.5, color='black'), showlegend=False))\n",
    "    data.append(go.Scattergl(mode='lines', x=[0,max(pfs['end_time'])], y=[y[1], y[1]], line=dict(width=.5, color='black'), showlegend=False))\n",
    "    \n",
    "    return data"
   ]
  }
 ],
 "metadata": {
  "kernelspec": {
   "display_name": "Python 3",
   "language": "python",
   "name": "python3"
  },
  "language_info": {
   "codemirror_mode": {
    "name": "ipython",
    "version": 3
   },
   "file_extension": ".py",
   "mimetype": "text/x-python",
   "name": "python",
   "nbconvert_exporter": "python",
   "pygments_lexer": "ipython3",
   "version": "3.7.10"
  },
  "toc": {
   "base_numbering": 1,
   "nav_menu": {},
   "number_sections": true,
   "sideBar": true,
   "skip_h1_title": false,
   "title_cell": "Table of Contents",
   "title_sidebar": "Contents",
   "toc_cell": false,
   "toc_position": {},
   "toc_section_display": true,
   "toc_window_display": false
  },
  "varInspector": {
   "cols": {
    "lenName": 16,
    "lenType": 16,
    "lenVar": 40
   },
   "kernels_config": {
    "python": {
     "delete_cmd_postfix": "",
     "delete_cmd_prefix": "del ",
     "library": "var_list.py",
     "varRefreshCmd": "print(var_dic_list())"
    },
    "r": {
     "delete_cmd_postfix": ") ",
     "delete_cmd_prefix": "rm(",
     "library": "var_list.r",
     "varRefreshCmd": "cat(var_dic_list()) "
    }
   },
   "types_to_exclude": [
    "module",
    "function",
    "builtin_function_or_method",
    "instance",
    "_Feature"
   ],
   "window_display": false
  }
 },
 "nbformat": 4,
 "nbformat_minor": 4
}
